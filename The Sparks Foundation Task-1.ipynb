{
 "cells": [
  {
   "cell_type": "markdown",
   "metadata": {},
   "source": [
    "###              TASK 1: Prediction using Supervised Machine Learning"
   ]
  },
  {
   "cell_type": "markdown",
   "metadata": {},
   "source": [
    "**Objective** :-  Predict the percentage of a student based on the no. of study hours using the linear Regression Supervised Machine Learning Algorithm.
   ]
  },
  {
   "cell_type": "markdown",
   "metadata": {},
   "source": [
    "## Importing the required libraries and dataset"
   ]
  },
  {
   "cell_type": "code",
   "execution_count": 1,
   "metadata": {},
   "outputs": [],
   "source": [
    "# Importing all libraries required in this notebook\n",
    "import pandas as pd\n",
    "import numpy as np  \n",
    "import matplotlib.pyplot as plt\n",
    "import seaborn as sns"
   ]
  },
  {
   "cell_type": "code",
   "execution_count": 2,
   "metadata": {},
   "outputs": [
    {
     "name": "stdout",
     "output_type": "stream",
     "text": [
      "Data imported successfully\n"
     ]
    }
   ],
   "source": [
    "# Reading the data from the link\n",
    "url = \"http://bit.ly/w-data\"\n",
    "data = pd.read_csv(url)\n",
    "print(\"Data imported successfully\")"
   ]
  },
  {
   "cell_type": "code",
   "execution_count": 3,
   "metadata": {},
   "outputs": [
    {
     "data": {
      "text/html": [
       "<div>\n",
       "<style scoped>\n",
       "    .dataframe tbody tr th:only-of-type {\n",
       "        vertical-align: middle;\n",
       "    }\n",
       "\n",
       "    .dataframe tbody tr th {\n",
       "        vertical-align: top;\n",
       "    }\n",
       "\n",
       "    .dataframe thead th {\n",
       "        text-align: right;\n",
       "    }\n",
       "</style>\n",
       "<table border=\"1\" class=\"dataframe\">\n",
       "  <thead>\n",
       "    <tr style=\"text-align: right;\">\n",
       "      <th></th>\n",
       "      <th>Hours</th>\n",
       "      <th>Scores</th>\n",
       "    </tr>\n",
       "  </thead>\n",
       "  <tbody>\n",
       "    <tr>\n",
       "      <th>0</th>\n",
       "      <td>2.5</td>\n",
       "      <td>21</td>\n",
       "    </tr>\n",
       "    <tr>\n",
       "      <th>1</th>\n",
       "      <td>5.1</td>\n",
       "      <td>47</td>\n",
       "    </tr>\n",
       "    <tr>\n",
       "      <th>2</th>\n",
       "      <td>3.2</td>\n",
       "      <td>27</td>\n",
       "    </tr>\n",
       "    <tr>\n",
       "      <th>3</th>\n",
       "      <td>8.5</td>\n",
       "      <td>75</td>\n",
       "    </tr>\n",
       "    <tr>\n",
       "      <th>4</th>\n",
       "      <td>3.5</td>\n",
       "      <td>30</td>\n",
       "    </tr>\n",
       "  </tbody>\n",
       "</table>\n",
       "</div>"
      ],
      "text/plain": [
       "   Hours  Scores\n",
       "0    2.5      21\n",
       "1    5.1      47\n",
       "2    3.2      27\n",
       "3    8.5      75\n",
       "4    3.5      30"
      ]
     },
     "execution_count": 3,
     "metadata": {},
     "output_type": "execute_result"
    }
   ],
   "source": [
    "# This will give the first 5 rows of the dataset\n",
    "# Suppose if we want to see first 15 rows of the dataset, then we have to write like this :- data.head(15)\n",
    "data.head()"
   ]
  },
  {
   "cell_type": "code",
   "execution_count": 4,
   "metadata": {},
   "outputs": [
    {
     "data": {
      "text/html": [
       "<div>\n",
       "<style scoped>\n",
       "    .dataframe tbody tr th:only-of-type {\n",
       "        vertical-align: middle;\n",
       "    }\n",
       "\n",
       "    .dataframe tbody tr th {\n",
       "        vertical-align: top;\n",
       "    }\n",
       "\n",
       "    .dataframe thead th {\n",
       "        text-align: right;\n",
       "    }\n",
       "</style>\n",
       "<table border=\"1\" class=\"dataframe\">\n",
       "  <thead>\n",
       "    <tr style=\"text-align: right;\">\n",
       "      <th></th>\n",
       "      <th>Hours</th>\n",
       "      <th>Scores</th>\n",
       "    </tr>\n",
       "  </thead>\n",
       "  <tbody>\n",
       "    <tr>\n",
       "      <th>20</th>\n",
       "      <td>2.7</td>\n",
       "      <td>30</td>\n",
       "    </tr>\n",
       "    <tr>\n",
       "      <th>21</th>\n",
       "      <td>4.8</td>\n",
       "      <td>54</td>\n",
       "    </tr>\n",
       "    <tr>\n",
       "      <th>22</th>\n",
       "      <td>3.8</td>\n",
       "      <td>35</td>\n",
       "    </tr>\n",
       "    <tr>\n",
       "      <th>23</th>\n",
       "      <td>6.9</td>\n",
       "      <td>76</td>\n",
       "    </tr>\n",
       "    <tr>\n",
       "      <th>24</th>\n",
       "      <td>7.8</td>\n",
       "      <td>86</td>\n",
       "    </tr>\n",
       "  </tbody>\n",
       "</table>\n",
       "</div>"
      ],
      "text/plain": [
       "    Hours  Scores\n",
       "20    2.7      30\n",
       "21    4.8      54\n",
       "22    3.8      35\n",
       "23    6.9      76\n",
       "24    7.8      86"
      ]
     },
     "execution_count": 4,
     "metadata": {},
     "output_type": "execute_result"
    }
   ],
   "source": [
    "# This will give the last 5 rows of the dataset\n",
    "# Suppose if we want to see last 10 rows of the dataset, then we have to write like this :- data.tail(10)\n",
    "data.tail()"
   ]
  },
  {
   "cell_type": "code",
   "execution_count": 5,
   "metadata": {},
   "outputs": [
    {
     "data": {
      "text/plain": [
       "(25, 2)"
      ]
     },
     "execution_count": 5,
     "metadata": {},
     "output_type": "execute_result"
    }
   ],
   "source": [
    "# This will give the shape of the dataset\n",
    "# It will return a tuple in which first element represents the number of rows and second one represents the number of columns.\n",
    "data.shape"
   ]
  },
  {
   "cell_type": "code",
   "execution_count": 6,
   "metadata": {},
   "outputs": [
    {
     "data": {
      "text/plain": [
       "50"
      ]
     },
     "execution_count": 6,
     "metadata": {},
     "output_type": "execute_result"
    }
   ],
   "source": [
    "# This will give the size of the dataset\n",
    "data.size"
   ]
  },
  {
   "cell_type": "code",
   "execution_count": 7,
   "metadata": {},
   "outputs": [
    {
     "data": {
      "text/html": [
       "<div>\n",
       "<style scoped>\n",
       "    .dataframe tbody tr th:only-of-type {\n",
       "        vertical-align: middle;\n",
       "    }\n",
       "\n",
       "    .dataframe tbody tr th {\n",
       "        vertical-align: top;\n",
       "    }\n",
       "\n",
       "    .dataframe thead th {\n",
       "        text-align: right;\n",
       "    }\n",
       "</style>\n",
       "<table border=\"1\" class=\"dataframe\">\n",
       "  <thead>\n",
       "    <tr style=\"text-align: right;\">\n",
       "      <th></th>\n",
       "      <th>Hours</th>\n",
       "      <th>Scores</th>\n",
       "    </tr>\n",
       "  </thead>\n",
       "  <tbody>\n",
       "    <tr>\n",
       "      <th>count</th>\n",
       "      <td>25.000000</td>\n",
       "      <td>25.000000</td>\n",
       "    </tr>\n",
       "    <tr>\n",
       "      <th>mean</th>\n",
       "      <td>5.012000</td>\n",
       "      <td>51.480000</td>\n",
       "    </tr>\n",
       "    <tr>\n",
       "      <th>std</th>\n",
       "      <td>2.525094</td>\n",
       "      <td>25.286887</td>\n",
       "    </tr>\n",
       "    <tr>\n",
       "      <th>min</th>\n",
       "      <td>1.100000</td>\n",
       "      <td>17.000000</td>\n",
       "    </tr>\n",
       "    <tr>\n",
       "      <th>25%</th>\n",
       "      <td>2.700000</td>\n",
       "      <td>30.000000</td>\n",
       "    </tr>\n",
       "    <tr>\n",
       "      <th>50%</th>\n",
       "      <td>4.800000</td>\n",
       "      <td>47.000000</td>\n",
       "    </tr>\n",
       "    <tr>\n",
       "      <th>75%</th>\n",
       "      <td>7.400000</td>\n",
       "      <td>75.000000</td>\n",
       "    </tr>\n",
       "    <tr>\n",
       "      <th>max</th>\n",
       "      <td>9.200000</td>\n",
       "      <td>95.000000</td>\n",
       "    </tr>\n",
       "  </tbody>\n",
       "</table>\n",
       "</div>"
      ],
      "text/plain": [
       "           Hours     Scores\n",
       "count  25.000000  25.000000\n",
       "mean    5.012000  51.480000\n",
       "std     2.525094  25.286887\n",
       "min     1.100000  17.000000\n",
       "25%     2.700000  30.000000\n",
       "50%     4.800000  47.000000\n",
       "75%     7.400000  75.000000\n",
       "max     9.200000  95.000000"
      ]
     },
     "execution_count": 7,
     "metadata": {},
     "output_type": "execute_result"
    }
   ],
   "source": [
    "# This will give some Statistical details of a dataset\n",
    "data.describe()"
   ]
  },
  {
   "cell_type": "code",
   "execution_count": 8,
   "metadata": {},
   "outputs": [
    {
     "data": {
      "text/plain": [
       "Hours     float64\n",
       "Scores      int64\n",
       "dtype: object"
      ]
     },
     "execution_count": 8,
     "metadata": {},
     "output_type": "execute_result"
    }
   ],
   "source": [
    "data.dtypes"
   ]
  },
  {
   "cell_type": "markdown",
   "metadata": {},
   "source": [
    "####  Now we will check whether there is any null value or missing value in the dataframe"
   ]
  },
  {
   "cell_type": "code",
   "execution_count": 9,
   "metadata": {},
   "outputs": [
    {
     "name": "stdout",
     "output_type": "stream",
     "text": [
      "<class 'pandas.core.frame.DataFrame'>\n",
      "RangeIndex: 25 entries, 0 to 24\n",
      "Data columns (total 2 columns):\n",
      " #   Column  Non-Null Count  Dtype  \n",
      "---  ------  --------------  -----  \n",
      " 0   Hours   25 non-null     float64\n",
      " 1   Scores  25 non-null     int64  \n",
      "dtypes: float64(1), int64(1)\n",
      "memory usage: 528.0 bytes\n"
     ]
    }
   ],
   "source": [
    "data.info()"
   ]
  },
  {
   "cell_type": "code",
   "execution_count": 10,
   "metadata": {},
   "outputs": [
    {
     "data": {
      "text/plain": [
       "Hours     0\n",
       "Scores    0\n",
       "dtype: int64"
      ]
     },
     "execution_count": 10,
     "metadata": {},
     "output_type": "execute_result"
    }
   ],
   "source": [
    "data.isnull().sum()"
   ]
  },
  {
   "cell_type": "markdown",
   "metadata": {},
   "source": [
    "From the above data we can see that there is no null value or missing value in the dataframe"
   ]
  },
  {
   "cell_type": "markdown",
   "metadata": {},
   "source": [
    "## Visualizing the dataset"
   ]
  },
  {
   "cell_type": "markdown",
   "metadata": {},
   "source": [
    "Let's plot our data points on 2-D graph to eyeball our dataset and see if we can manually find any relationship between the data. We can create the plot with the following script:"
   ]
  },
  {
   "cell_type": "code",
   "execution_count": 11,
   "metadata": {},
   "outputs": [
    {
     "data": {
      "image/png": "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\n",
      "text/plain": [
       "<Figure size 432x288 with 1 Axes>"
      ]
     },
     "metadata": {
      "needs_background": "light"
     },
     "output_type": "display_data"
    }
   ],
   "source": [
    "data.plot(x='Hours', y='Scores', style='*', c = \"red\")  \n",
    "plt.title('Hours vs Percentage')  \n",
    "plt.xlabel('Hours Studied')  \n",
    "plt.ylabel('Percentage Score')  \n",
    "plt.show()"
   ]
  },
  {
   "cell_type": "markdown",
   "metadata": {},
   "source": [
    "**From the above scatter plot , we can clearly see that there is a positive linear relation between the \"number of hours\" studied and \"percentage of score\", which means if a student increases his/her study hours, his/her score will also increase.**"
   ]
  },
  {
   "cell_type": "code",
   "execution_count": 12,
   "metadata": {},
   "outputs": [
    {
     "data": {
      "text/html": [
       "<div>\n",
       "<style scoped>\n",
       "    .dataframe tbody tr th:only-of-type {\n",
       "        vertical-align: middle;\n",
       "    }\n",
       "\n",
       "    .dataframe tbody tr th {\n",
       "        vertical-align: top;\n",
       "    }\n",
       "\n",
       "    .dataframe thead th {\n",
       "        text-align: right;\n",
       "    }\n",
       "</style>\n",
       "<table border=\"1\" class=\"dataframe\">\n",
       "  <thead>\n",
       "    <tr style=\"text-align: right;\">\n",
       "      <th></th>\n",
       "      <th>Hours</th>\n",
       "      <th>Scores</th>\n",
       "    </tr>\n",
       "  </thead>\n",
       "  <tbody>\n",
       "    <tr>\n",
       "      <th>Hours</th>\n",
       "      <td>1.000000</td>\n",
       "      <td>0.976191</td>\n",
       "    </tr>\n",
       "    <tr>\n",
       "      <th>Scores</th>\n",
       "      <td>0.976191</td>\n",
       "      <td>1.000000</td>\n",
       "    </tr>\n",
       "  </tbody>\n",
       "</table>\n",
       "</div>"
      ],
      "text/plain": [
       "           Hours    Scores\n",
       "Hours   1.000000  0.976191\n",
       "Scores  0.976191  1.000000"
      ]
     },
     "execution_count": 12,
     "metadata": {},
     "output_type": "execute_result"
    }
   ],
   "source": [
    "# Now to find the correlation between the variables we write \n",
    "data.corr()"
   ]
  },
  {
   "cell_type": "code",
   "execution_count": 13,
   "metadata": {},
   "outputs": [
    {
     "data": {
      "text/plain": [
       "<AxesSubplot:>"
      ]
     },
     "execution_count": 13,
     "metadata": {},
     "output_type": "execute_result"
    },
    {
     "data": {
      "image/png": "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\n",
      "text/plain": [
       "<Figure size 432x288 with 2 Axes>"
      ]
     },
     "metadata": {
      "needs_background": "light"
     },
     "output_type": "display_data"
    }
   ],
   "source": [
    "# We can also plot the heatmap between the variables to see the correlation between them with the help of seaborn library \n",
    "x = data.corr()\n",
    "sns.heatmap(x, annot = True, cmap = \"viridis\")"
   ]
  },
  {
   "cell_type": "markdown",
   "metadata": {},
   "source": [
    "## Data Preparation"
   ]
  },
  {
   "cell_type": "markdown",
   "metadata": {},
   "source": [
    "The next step is to divide the data into \"attributes\" (inputs) and \"labels\" (outputs)."
   ]
  },
  {
   "cell_type": "code",
   "execution_count": 14,
   "metadata": {},
   "outputs": [],
   "source": [
    "X = data.iloc[:, :-1].values  \n",
    "y = data.iloc[:, 1].values  "
   ]
  },
  {
   "cell_type": "code",
   "execution_count": 15,
   "metadata": {},
   "outputs": [
    {
     "data": {
      "text/plain": [
       "array([[2.5],\n",
       "       [5.1],\n",
       "       [3.2],\n",
       "       [8.5],\n",
       "       [3.5],\n",
       "       [1.5],\n",
       "       [9.2],\n",
       "       [5.5],\n",
       "       [8.3],\n",
       "       [2.7],\n",
       "       [7.7],\n",
       "       [5.9],\n",
       "       [4.5],\n",
       "       [3.3],\n",
       "       [1.1],\n",
       "       [8.9],\n",
       "       [2.5],\n",
       "       [1.9],\n",
       "       [6.1],\n",
       "       [7.4],\n",
       "       [2.7],\n",
       "       [4.8],\n",
       "       [3.8],\n",
       "       [6.9],\n",
       "       [7.8]])"
      ]
     },
     "execution_count": 15,
     "metadata": {},
     "output_type": "execute_result"
    }
   ],
   "source": [
    "X"
   ]
  },
  {
   "cell_type": "code",
   "execution_count": 16,
   "metadata": {},
   "outputs": [
    {
     "data": {
      "text/plain": [
       "(25, 1)"
      ]
     },
     "execution_count": 16,
     "metadata": {},
     "output_type": "execute_result"
    }
   ],
   "source": [
    "X.shape"
   ]
  },
  {
   "cell_type": "code",
   "execution_count": 17,
   "metadata": {},
   "outputs": [
    {
     "data": {
      "text/plain": [
       "array([21, 47, 27, 75, 30, 20, 88, 60, 81, 25, 85, 62, 41, 42, 17, 95, 30,\n",
       "       24, 67, 69, 30, 54, 35, 76, 86], dtype=int64)"
      ]
     },
     "execution_count": 17,
     "metadata": {},
     "output_type": "execute_result"
    }
   ],
   "source": [
    "y"
   ]
  },
  {
   "cell_type": "code",
   "execution_count": 18,
   "metadata": {},
   "outputs": [
    {
     "data": {
      "text/plain": [
       "(25,)"
      ]
     },
     "execution_count": 18,
     "metadata": {},
     "output_type": "execute_result"
    }
   ],
   "source": [
    "y.shape"
   ]
  },
  {
   "cell_type": "markdown",
   "metadata": {},
   "source": [
    "**Now that we have our attributes and labels, the next step is to split this data into training and test sets. We'll do this by using Scikit-Learn's built-in train_test_split() method:**"
   ]
  },
  {
   "cell_type": "code",
   "execution_count": 19,
   "metadata": {},
   "outputs": [],
   "source": [
    "from sklearn.model_selection import train_test_split  "
   ]
  },
  {
   "cell_type": "code",
   "execution_count": 20,
   "metadata": {},
   "outputs": [],
   "source": [
    "X_train, X_test, y_train, y_test = train_test_split(X, y, test_size=0.2, random_state=0) "
   ]
  },
  {
   "cell_type": "code",
   "execution_count": 21,
   "metadata": {},
   "outputs": [
    {
     "data": {
      "text/plain": [
       "array([[3.8],\n",
       "       [1.9],\n",
       "       [7.8],\n",
       "       [6.9],\n",
       "       [1.1],\n",
       "       [5.1],\n",
       "       [7.7],\n",
       "       [3.3],\n",
       "       [8.3],\n",
       "       [9.2],\n",
       "       [6.1],\n",
       "       [3.5],\n",
       "       [2.7],\n",
       "       [5.5],\n",
       "       [2.7],\n",
       "       [8.5],\n",
       "       [2.5],\n",
       "       [4.8],\n",
       "       [8.9],\n",
       "       [4.5]])"
      ]
     },
     "execution_count": 21,
     "metadata": {},
     "output_type": "execute_result"
    }
   ],
   "source": [
    "X_train"
   ]
  },
  {
   "cell_type": "code",
   "execution_count": 22,
   "metadata": {},
   "outputs": [
    {
     "data": {
      "text/plain": [
       "(20, 1)"
      ]
     },
     "execution_count": 22,
     "metadata": {},
     "output_type": "execute_result"
    }
   ],
   "source": [
    "X_train.shape"
   ]
  },
  {
   "cell_type": "code",
   "execution_count": 23,
   "metadata": {},
   "outputs": [
    {
     "data": {
      "text/plain": [
       "array([[1.5],\n",
       "       [3.2],\n",
       "       [7.4],\n",
       "       [2.5],\n",
       "       [5.9]])"
      ]
     },
     "execution_count": 23,
     "metadata": {},
     "output_type": "execute_result"
    }
   ],
   "source": [
    "X_test"
   ]
  },
  {
   "cell_type": "code",
   "execution_count": 24,
   "metadata": {},
   "outputs": [
    {
     "data": {
      "text/plain": [
       "(5, 1)"
      ]
     },
     "execution_count": 24,
     "metadata": {},
     "output_type": "execute_result"
    }
   ],
   "source": [
    "X_test.shape"
   ]
  },
  {
   "cell_type": "code",
   "execution_count": 25,
   "metadata": {},
   "outputs": [
    {
     "data": {
      "text/plain": [
       "array([35, 24, 86, 76, 17, 47, 85, 42, 81, 88, 67, 30, 25, 60, 30, 75, 21,\n",
       "       54, 95, 41], dtype=int64)"
      ]
     },
     "execution_count": 25,
     "metadata": {},
     "output_type": "execute_result"
    }
   ],
   "source": [
    "y_train"
   ]
  },
  {
   "cell_type": "code",
   "execution_count": 26,
   "metadata": {},
   "outputs": [
    {
     "data": {
      "text/plain": [
       "(20,)"
      ]
     },
     "execution_count": 26,
     "metadata": {},
     "output_type": "execute_result"
    }
   ],
   "source": [
    "y_train.shape"
   ]
  },
  {
   "cell_type": "code",
   "execution_count": 27,
   "metadata": {},
   "outputs": [
    {
     "data": {
      "text/plain": [
       "array([20, 27, 69, 30, 62], dtype=int64)"
      ]
     },
     "execution_count": 27,
     "metadata": {},
     "output_type": "execute_result"
    }
   ],
   "source": [
    "y_test"
   ]
  },
  {
   "cell_type": "code",
   "execution_count": 28,
   "metadata": {},
   "outputs": [
    {
     "data": {
      "text/plain": [
       "(5,)"
      ]
     },
     "execution_count": 28,
     "metadata": {},
     "output_type": "execute_result"
    }
   ],
   "source": [
    "y_test.shape"
   ]
  },
  {
   "cell_type": "markdown",
   "metadata": {},
   "source": [
    "## Training the Algorithm"
   ]
  },
  {
   "cell_type": "markdown",
   "metadata": {},
   "source": [
    "**We have split our data into training and testing sets, and now is finally the time to train our algorithm.**"
   ]
  },
  {
   "cell_type": "code",
   "execution_count": 29,
   "metadata": {},
   "outputs": [],
   "source": [
    "from sklearn.linear_model import LinearRegression"
   ]
  },
  {
   "cell_type": "code",
   "execution_count": 30,
   "metadata": {},
   "outputs": [],
   "source": [
    "model = LinearRegression() "
   ]
  },
  {
   "cell_type": "code",
   "execution_count": 31,
   "metadata": {},
   "outputs": [
    {
     "data": {
      "text/plain": [
       "LinearRegression()"
      ]
     },
     "execution_count": 31,
     "metadata": {},
     "output_type": "execute_result"
    }
   ],
   "source": [
    "model.fit(X_train, y_train) "
   ]
  },
  {
   "cell_type": "code",
   "execution_count": 32,
   "metadata": {},
   "outputs": [
    {
     "data": {
      "text/plain": [
       "array([9.91065648])"
      ]
     },
     "execution_count": 32,
     "metadata": {},
     "output_type": "execute_result"
    }
   ],
   "source": [
    "model.coef_"
   ]
  },
  {
   "cell_type": "code",
   "execution_count": 33,
   "metadata": {
    "scrolled": true
   },
   "outputs": [
    {
     "data": {
      "text/plain": [
       "2.018160041434683"
      ]
     },
     "execution_count": 33,
     "metadata": {},
     "output_type": "execute_result"
    }
   ],
   "source": [
    "model.intercept_"
   ]
  },
  {
   "cell_type": "markdown",
   "metadata": {},
   "source": [
    "## Plotting the Regression line"
   ]
  },
  {
   "cell_type": "code",
   "execution_count": 34,
   "metadata": {},
   "outputs": [],
   "source": [
    "line = model.coef_*X + model.intercept_"
   ]
  },
  {
   "cell_type": "code",
   "execution_count": 35,
   "metadata": {},
   "outputs": [
    {
     "data": {
      "image/png": "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\n",
      "text/plain": [
       "<Figure size 432x288 with 1 Axes>"
      ]
     },
     "metadata": {
      "needs_background": "light"
     },
     "output_type": "display_data"
    }
   ],
   "source": [
    "# Plotting for the test data\n",
    "plt.scatter(X, y, c = \"red\")\n",
    "plt.plot(X, line, c = \"blue\");\n",
    "plt.xlabel(\"Number of Hours\")\n",
    "plt.ylabel(\"Score\")\n",
    "plt.title(\"Regression Plot\")\n",
    "plt.show()"
   ]
  },
  {
   "cell_type": "markdown",
   "metadata": {},
   "source": [
    "## Making Predictions"
   ]
  },
  {
   "cell_type": "markdown",
   "metadata": {},
   "source": [
    "**Now that we have trained our algorithm, it's time to make some predictions.**"
   ]
  },
  {
   "cell_type": "code",
   "execution_count": 36,
   "metadata": {},
   "outputs": [
    {
     "data": {
      "text/plain": [
       "array([16.88414476, 33.73226078, 75.357018  , 26.79480124, 60.49103328])"
      ]
     },
     "execution_count": 36,
     "metadata": {},
     "output_type": "execute_result"
    }
   ],
   "source": [
    "y_pred = model.predict(X_test)\n",
    "y_pred"
   ]
  },
  {
   "cell_type": "markdown",
   "metadata": {},
   "source": [
    "**Comparing the actual and predicted data**"
   ]
  },
  {
   "cell_type": "code",
   "execution_count": 37,
   "metadata": {},
   "outputs": [
    {
     "data": {
      "text/html": [
       "<div>\n",
       "<style scoped>\n",
       "    .dataframe tbody tr th:only-of-type {\n",
       "        vertical-align: middle;\n",
       "    }\n",
       "\n",
       "    .dataframe tbody tr th {\n",
       "        vertical-align: top;\n",
       "    }\n",
       "\n",
       "    .dataframe thead th {\n",
       "        text-align: right;\n",
       "    }\n",
       "</style>\n",
       "<table border=\"1\" class=\"dataframe\">\n",
       "  <thead>\n",
       "    <tr style=\"text-align: right;\">\n",
       "      <th></th>\n",
       "      <th>Actual score</th>\n",
       "      <th>Predicted score</th>\n",
       "    </tr>\n",
       "  </thead>\n",
       "  <tbody>\n",
       "    <tr>\n",
       "      <th>0</th>\n",
       "      <td>20</td>\n",
       "      <td>16.884145</td>\n",
       "    </tr>\n",
       "    <tr>\n",
       "      <th>1</th>\n",
       "      <td>27</td>\n",
       "      <td>33.732261</td>\n",
       "    </tr>\n",
       "    <tr>\n",
       "      <th>2</th>\n",
       "      <td>69</td>\n",
       "      <td>75.357018</td>\n",
       "    </tr>\n",
       "    <tr>\n",
       "      <th>3</th>\n",
       "      <td>30</td>\n",
       "      <td>26.794801</td>\n",
       "    </tr>\n",
       "    <tr>\n",
       "      <th>4</th>\n",
       "      <td>62</td>\n",
       "      <td>60.491033</td>\n",
       "    </tr>\n",
       "  </tbody>\n",
       "</table>\n",
       "</div>"
      ],
      "text/plain": [
       "   Actual score  Predicted score\n",
       "0            20        16.884145\n",
       "1            27        33.732261\n",
       "2            69        75.357018\n",
       "3            30        26.794801\n",
       "4            62        60.491033"
      ]
     },
     "execution_count": 37,
     "metadata": {},
     "output_type": "execute_result"
    }
   ],
   "source": [
    "data = pd.DataFrame({'Actual score':y_test, 'Predicted score':y_pred})\n",
    "data"
   ]
  },
  {
   "cell_type": "markdown",
   "metadata": {},
   "source": [
    "## Evaluating the Model"
   ]
  },
  {
   "cell_type": "markdown",
   "metadata": {},
   "source": [
    "**The final step is to evaluate the performance of algorithm. This step is particularly important to compare how well different algorithms perform on a particular dataset.There are many such metrics.**"
   ]
  },
  {
   "cell_type": "code",
   "execution_count": 38,
   "metadata": {},
   "outputs": [],
   "source": [
    "from sklearn import metrics as m"
   ]
  },
  {
   "cell_type": "markdown",
   "metadata": {},
   "source": [
    "**Mean Absolute Error**"
   ]
  },
  {
   "cell_type": "code",
   "execution_count": 39,
   "metadata": {
    "scrolled": false
   },
   "outputs": [
    {
     "name": "stdout",
     "output_type": "stream",
     "text": [
      "Mean Absolute Error: 4.183859899002975\n"
     ]
    }
   ],
   "source": [
    "print('Mean Absolute Error:', m.mean_absolute_error(y_test, y_pred)) "
   ]
  },
  {
   "cell_type": "markdown",
   "metadata": {},
   "source": [
    "**Mean Squared Error**"
   ]
  },
  {
   "cell_type": "code",
   "execution_count": 40,
   "metadata": {},
   "outputs": [
    {
     "name": "stdout",
     "output_type": "stream",
     "text": [
      "Mean Squared Error: 21.5987693072174\n"
     ]
    }
   ],
   "source": [
    "print('Mean Squared Error:', m.mean_squared_error(y_test, y_pred))"
   ]
  },
  {
   "cell_type": "markdown",
   "metadata": {},
   "source": [
    "**Root Mean Squared Error**"
   ]
  },
  {
   "cell_type": "code",
   "execution_count": 41,
   "metadata": {},
   "outputs": [
    {
     "name": "stdout",
     "output_type": "stream",
     "text": [
      "Root Mean Squared Error: 4.6474476121003665\n"
     ]
    }
   ],
   "source": [
    "print('Root Mean Squared Error:', np.sqrt(m.mean_squared_error(y_test, y_pred)))"
   ]
  },
  {
   "cell_type": "markdown",
   "metadata": {},
   "source": [
    "**What will be predicted score if a student studies for 9.25 hrs/ day?**"
   ]
  },
  {
   "cell_type": "code",
   "execution_count": 42,
   "metadata": {},
   "outputs": [
    {
     "name": "stdout",
     "output_type": "stream",
     "text": [
      "If a student studies for 9.25 hrs/day\n",
      "Then the Predicted Score is = 93.69173248737538\n"
     ]
    }
   ],
   "source": [
    "hrs = 9.25\n",
    "own_pred = model.predict([[hrs]])\n",
    "print(\"If a student studies for\",hrs,\"hrs/day\")\n",
    "print(\"Then the Predicted Score is = {}\".format(own_pred[0]))"
   ]
  },
  {
   "cell_type": "markdown",
   "metadata": {},
   "source": [
    "# Thank you "
   ]
  }
 ],
 "metadata": {
  "kernelspec": {
   "display_name": "Python 3",
   "language": "python",
   "name": "python3"
  },
  "language_info": {
   "codemirror_mode": {
    "name": "ipython",
    "version": 3
   },
   "file_extension": ".py",
   "mimetype": "text/x-python",
   "name": "python",
   "nbconvert_exporter": "python",
   "pygments_lexer": "ipython3",
   "version": "3.8.5"
  }
 },
 "nbformat": 4,
 "nbformat_minor": 4
}
